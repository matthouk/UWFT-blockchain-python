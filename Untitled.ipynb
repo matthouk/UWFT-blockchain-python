{
 "cells": [
  {
   "cell_type": "code",
   "execution_count": 5,
   "metadata": {},
   "outputs": [],
   "source": [
    "import subprocess\n",
    "import json\n",
    "import os\n",
    "from dotenv import load_dotenv\n",
    "from constants import *\n",
    "load_dotenv()\n",
    "\n",
    "mnemonic = os.getenv('MNEMONIC-HW')"
   ]
  },
  {
   "cell_type": "code",
   "execution_count": 6,
   "metadata": {},
   "outputs": [
    {
     "name": "stdout",
     "output_type": "stream",
     "text": [
      "<class 'str'>\n"
     ]
    }
   ],
   "source": [
    "print(type(mnemonic))"
   ]
  },
  {
   "cell_type": "code",
   "execution_count": 10,
   "metadata": {},
   "outputs": [],
   "source": [
    "command = './derive -g --mnemonic --numderive=5 --coin=ETH --cols=path,address,privkey,pubkey --format=json'"
   ]
  },
  {
   "cell_type": "code",
   "execution_count": 14,
   "metadata": {},
   "outputs": [],
   "source": [
    "p = subprocess.Popen(command, stdout=subprocess.PIPE, shell=True)\n",
    "output, err = p.communicate()\n",
    "p_status = p.wait()\n",
    "\n",
    "keys = json.loads(output)"
   ]
  },
  {
   "cell_type": "code",
   "execution_count": 15,
   "metadata": {},
   "outputs": [
    {
     "name": "stdout",
     "output_type": "stream",
     "text": [
      "[{'path': \"m/44'/60'/0'/0/0\", 'address': '0xE3D436eAbc00E5D9DC35d97B292151f92c317015', 'privkey': '0x3e807bc682e00cbf6beae4f5b699cfd28ec0d58441a7d4b5a30482ed62a766d9', 'pubkey': '03fbb417d2118aeca17e07cdf890fe7eb05528cbb12b73fc4ecf9717693596562e'}, {'path': \"m/44'/60'/0'/0/1\", 'address': '0xCF76Af1929F669EF1ef75533f6335e9CE212EfDD', 'privkey': '0x0038497ce8fa171b42a11ff2c8498c0386195171113a5b55fc3d93f982c19422', 'pubkey': '030a27d168d59ec02e36912e9b2eed054f54c91c3cafc39f6d5206f8224fbb14c3'}, {'path': \"m/44'/60'/0'/0/2\", 'address': '0xEa91F409b6e72bf1bE3B1542537aBEB77D1406d9', 'privkey': '0x09a2562a913b053275d75363bde191f8f525c85c880abbe69b4f30a1e4d1c480', 'pubkey': '0262f03b38d9fa11333e66ecc7a5a427d382e04d0cbc7fead991740e34aa38b634'}, {'path': \"m/44'/60'/0'/0/3\", 'address': '0x1BCE5d08248D53F0de986eDFF21c0ef71B105530', 'privkey': '0x208d657de84384d3986da27cf041b6ac5d72cc616e830e4a30adc57a71bfa4ac', 'pubkey': '030eee615b18802121a04bf45c180f44367d707047acd7d79495fead4a4a02fd0a'}, {'path': \"m/44'/60'/0'/0/4\", 'address': '0x9C9FdEB02ff68C913DF8406385E5ed26Bf502F37', 'privkey': '0x3a982d3c32092206fe1dc7944b05763b72e5048e10e68768125f0fdf675ccb25', 'pubkey': '021c304de85194b99b40b16f86bac3f0fe1db3b43b014e4c2d0e6a02e8c31141d4'}, {'path': \"m/44'/60'/0'/0/5\", 'address': '0x07BEC0e998EAA478B4e53F80CE7C961d90f7c5bd', 'privkey': '0xc7ba9456a898f515aceaac6c73c8b577c1b4fee0fac5b240f5f5cd104a709087', 'pubkey': '034daacf347f6039bd05771040b36398f3a243e22fb516a6b64d11739e65f023ec'}, {'path': \"m/44'/60'/0'/0/6\", 'address': '0x623863B275b3eA91f7c69aDFF599f8A2D0a324f2', 'privkey': '0x694c68e6bc7dcb72d2eec8e45e2d0b8c4c619106338fa801119fd278a07ecd42', 'pubkey': '0200e55eff869f303375c20a524640b4438c042b34e70133bcf3eb74645740c0ed'}, {'path': \"m/44'/60'/0'/0/7\", 'address': '0xEcA051E27D8dAb3F8e021FD64816136b8345712a', 'privkey': '0x28d4ad1898046e592dd4617912b33fe72334889f98cce59d7b802d7401b0806a', 'pubkey': '035dab39cce2f43a9c12697d749ca0cc51b48c139ee8cec1cf2eef3894c1e98017'}, {'path': \"m/44'/60'/0'/0/8\", 'address': '0x38238cd8Da459b52354fD0961700938457149588', 'privkey': '0xb08a3fb168879da4f08295f0894cd02287986170acbf52573d70f73e8aa67fcd', 'pubkey': '02f0837c44458441a338e5a2f98cb6fafd8976e639488a3f898e21265da491b43f'}, {'path': \"m/44'/60'/0'/0/9\", 'address': '0x726b6Ea4F674897039bC85F978FEDe39A18dd1E1', 'privkey': '0x0382759c9c2b0913fb3177094750da6090d5911fc3b73e51c931be6f590e025e', 'pubkey': '0296bf7f16ddb0f83efb559ced2d2730d7d72b2e97e8af651c2f28bcbdaa6d8650'}]\n"
     ]
    }
   ],
   "source": [
    "print(keys)"
   ]
  },
  {
   "cell_type": "code",
   "execution_count": null,
   "metadata": {},
   "outputs": [],
   "source": []
  }
 ],
 "metadata": {
  "kernelspec": {
   "display_name": "Python 3",
   "language": "python",
   "name": "python3"
  },
  "language_info": {
   "codemirror_mode": {
    "name": "ipython",
    "version": 3
   },
   "file_extension": ".py",
   "mimetype": "text/x-python",
   "name": "python",
   "nbconvert_exporter": "python",
   "pygments_lexer": "ipython3",
   "version": "3.7.9"
  }
 },
 "nbformat": 4,
 "nbformat_minor": 4
}
